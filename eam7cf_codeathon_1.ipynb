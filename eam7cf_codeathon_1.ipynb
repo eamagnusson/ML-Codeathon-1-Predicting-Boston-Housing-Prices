{
  "nbformat": 4,
  "nbformat_minor": 0,
  "metadata": {
    "colab": {
      "name": "eam7cf_codeathon_1.ipynb",
      "provenance": [],
      "collapsed_sections": [],
      "authorship_tag": "ABX9TyMiDX9DKjxyhx0sX8CDT8Ra",
      "include_colab_link": true
    },
    "kernelspec": {
      "display_name": "Python 3",
      "name": "python3"
    }
  },
  "cells": [
    {
      "cell_type": "markdown",
      "metadata": {
        "id": "view-in-github",
        "colab_type": "text"
      },
      "source": [
        "<a href=\"https://colab.research.google.com/github/eamagnusson/ML-Codeathon-1-Predicting-Boston-Housing-Prices/blob/main/eam7cf_codeathon_1.ipynb\" target=\"_parent\"><img src=\"https://colab.research.google.com/assets/colab-badge.svg\" alt=\"Open In Colab\"/></a>"
      ]
    },
    {
      "cell_type": "markdown",
      "metadata": {
        "id": "UONV911yR5E7"
      },
      "source": [
        "# Step 1. Setup"
      ]
    },
    {
      "cell_type": "markdown",
      "metadata": {
        "id": "fzqRXjrlSH9-"
      },
      "source": [
        "Following Professor Nguyen's example end-to-end Machine Learning project, this project will serve as a system to predict housing prices in Boston, MA. This follows the 8 step process, beginning with checking that Python 3.5 or later is installed, Scikit-Learn 0.20 or later, and other necessary packages."
      ]
    },
    {
      "cell_type": "code",
      "metadata": {
        "id": "VBnpEHCuR9Bq"
      },
      "source": [
        "# Python ≥3.5 is required\n",
        "#import sys #\n",
        "# Scikit-Learn ≥0.20 is required\n",
        "import sklearn # general ml package\n",
        "\n",
        "# Common imports\n",
        "import numpy as np # fundamental package for scientific computing\n",
        "import os # to run file I/O operation \n",
        "\n",
        "# to make this notebook's output stable across runs\n",
        "# any number will do, as long as it is used consistently\n",
        "np.random.seed(42)\n",
        "\n",
        "# To plot pretty figures\n",
        "%matplotlib inline\n",
        "import matplotlib as mpl\n",
        "import matplotlib.pyplot as plt\n",
        "mpl.rc('axes', labelsize=14)\n",
        "mpl.rc('xtick', labelsize=12)\n",
        "mpl.rc('ytick', labelsize=12)\n",
        "\n",
        "# Where to save the figures\n",
        "PROJECT_ROOT_DIR = \".\"\n",
        "CHAPTER_ID = \"end_to_end_project\"\n",
        "IMAGES_PATH = os.path.join(PROJECT_ROOT_DIR, \"images\", CHAPTER_ID)\n",
        "os.makedirs(IMAGES_PATH, exist_ok=True)\n",
        "\n",
        "def save_fig(fig_id, tight_layout=True, fig_extension=\"png\", resolution=300):\n",
        "  \"\"\"Save the selected figure into disc under an image extention and resolution\n",
        "\n",
        "  Parameters\n",
        "  ----------\n",
        "  fig_id : figure handle\n",
        "    The id number of the figure\n",
        "  tight_layout : boolean (True or False)\n",
        "    Specifies whenther the layout should be tight or not\n",
        "  fig_extension: string\n",
        "    Under what extension should the file be saved (\"png\" or \"jpg\")\n",
        "  resolution: int\n",
        "    the quality of the figure (ie. 100,200,300)\n",
        "\n",
        "  Returns\n",
        "  -------\n",
        "  void\n",
        "    Does not return any value\n",
        "  \"\"\"\n",
        "\n",
        "  path = os.path.join(IMAGES_PATH, fig_id + \".\" + fig_extension)\n",
        "  print(\"Saving figure\", fig_id)\n",
        "  if tight_layout:\n",
        "    plt.tight_layout()\n",
        "  plt.savefig(path, format=fig_extension, dpi=resolution)"
      ],
      "execution_count": null,
      "outputs": []
    },
    {
      "cell_type": "markdown",
      "metadata": {
        "id": "nasQGfLjT9VD"
      },
      "source": [
        "# Step 2. Get the Housing Data"
      ]
    },
    {
      "cell_type": "code",
      "metadata": {
        "id": "XXJBbQPAUDRe"
      },
      "source": [
        "from six.moves import urllib # support URL download\n",
        "\n",
        "DOWNLOAD_ROOT = \"https://www.kaggle.com/vikrishnan/boston-house-prices/download\"\n",
        "HOUSING_PATH = os.path.join(\"datasets\", \"housing\")\n",
        "HOUSING_URL = DOWNLOAD_ROOT\n",
        "\n",
        "def fetch_housing_data(housing_url=HOUSING_URL, housing_path=HOUSING_PATH):\n",
        "    \"\"\"Fetch housing data from a remote URL to Colab file system\"\"\"\n",
        "    if not os.path.isdir(housing_path):\n",
        "        os.makedirs(housing_path)\n",
        "    csv_path = os.path.join(housing_path, \"housing.csv\")\n",
        "    urllib.request.urlretrieve(housing_url, csv_path)\n",
        "    # housing_tgz = tarfile.open(tgz_path)\n",
        "    # housing_tgz.extractall(path=housing_path)\n",
        "    # housing_tgz.close()\n",
        "\n",
        "fetch_housing_data()"
      ],
      "execution_count": null,
      "outputs": []
    },
    {
      "cell_type": "code",
      "metadata": {
        "colab": {
          "background_save": true
        },
        "id": "4EHZ_6rWXelc",
        "outputId": "44433b91-5317-4a5c-e3cf-15b0c93bb8e7"
      },
      "source": [
        "import pandas as pd # Pandas module to enable data manipulation\n",
        "\n",
        "def load_housing_data(housing_path=HOUSING_PATH):\n",
        "    \"\"\"Load Housing Data into Workspace from a CSV\"\"\"\n",
        "    csv_path = os.path.join(housing_path, \"housing.csv\")\n",
        "    return pd.read_csv(csv_path, error_bad_lines=False)\n",
        "\n",
        "housing = load_housing_data()\n",
        "# Display the first n rows of the data. (n=5 by default, we will use 10 rows)\n",
        "housing.head(10)"
      ],
      "execution_count": null,
      "outputs": [
        {
          "output_type": "stream",
          "text": [
            "b'Skipping line 6: expected 1 fields, saw 2\\nSkipping line 9: expected 1 fields, saw 4\\nSkipping line 20: expected 1 fields, saw 2\\nSkipping line 32: expected 1 fields, saw 8\\nSkipping line 41: expected 1 fields, saw 9\\nSkipping line 45: expected 1 fields, saw 2\\nSkipping line 46: expected 1 fields, saw 6\\nSkipping line 51: expected 1 fields, saw 2\\nSkipping line 52: expected 1 fields, saw 3\\nSkipping line 53: expected 1 fields, saw 2\\nSkipping line 54: expected 1 fields, saw 2\\nSkipping line 55: expected 1 fields, saw 2\\nSkipping line 74: expected 1 fields, saw 2\\nSkipping line 75: expected 1 fields, saw 2\\nSkipping line 76: expected 1 fields, saw 2\\nSkipping line 77: expected 1 fields, saw 2\\nSkipping line 84: expected 1 fields, saw 2\\nSkipping line 86: expected 1 fields, saw 2\\nSkipping line 94: expected 1 fields, saw 2\\nSkipping line 155: expected 1 fields, saw 2\\nSkipping line 156: expected 1 fields, saw 2\\nSkipping line 157: expected 1 fields, saw 2\\nSkipping line 158: expected 1 fields, saw 2\\nSkipping line 160: expected 1 fields, saw 2\\nSkipping line 161: expected 1 fields, saw 2\\n'\n"
          ],
          "name": "stderr"
        },
        {
          "output_type": "execute_result",
          "data": {
            "text/html": [
              "<div>\n",
              "<style scoped>\n",
              "    .dataframe tbody tr th:only-of-type {\n",
              "        vertical-align: middle;\n",
              "    }\n",
              "\n",
              "    .dataframe tbody tr th {\n",
              "        vertical-align: top;\n",
              "    }\n",
              "\n",
              "    .dataframe thead th {\n",
              "        text-align: right;\n",
              "    }\n",
              "</style>\n",
              "<table border=\"1\" class=\"dataframe\">\n",
              "  <thead>\n",
              "    <tr style=\"text-align: right;\">\n",
              "      <th></th>\n",
              "      <th>&lt;!DOCTYPE html&gt;</th>\n",
              "    </tr>\n",
              "  </thead>\n",
              "  <tbody>\n",
              "    <tr>\n",
              "      <th>0</th>\n",
              "      <td>&lt;html lang=\"en\"&gt;</td>\n",
              "    </tr>\n",
              "    <tr>\n",
              "      <th>1</th>\n",
              "      <td>&lt;head&gt;</td>\n",
              "    </tr>\n",
              "    <tr>\n",
              "      <th>2</th>\n",
              "      <td>&lt;title&gt;Kaggle: Your Home for Data Science&lt;...</td>\n",
              "    </tr>\n",
              "    <tr>\n",
              "      <th>3</th>\n",
              "      <td>&lt;meta charset=\"utf-8\" /&gt;</td>\n",
              "    </tr>\n",
              "    <tr>\n",
              "      <th>4</th>\n",
              "      <td>&lt;meta name=\"description\" content=\"Kaggle i...</td>\n",
              "    </tr>\n",
              "    <tr>\n",
              "      <th>5</th>\n",
              "      <td>&lt;meta name=\"turbolinks-cache-control\" cont...</td>\n",
              "    </tr>\n",
              "    <tr>\n",
              "      <th>6</th>\n",
              "      <td>&lt;meta name=\"theme-color\" content=\"#008ABC\" /&gt;</td>\n",
              "    </tr>\n",
              "    <tr>\n",
              "      <th>7</th>\n",
              "      <td>&lt;script nonce=\"YxRmX3wWPZDNqYIPX3bYig==\" t...</td>\n",
              "    </tr>\n",
              "    <tr>\n",
              "      <th>8</th>\n",
              "      <td>if ('serviceWorker' in navigator) {</td>\n",
              "    </tr>\n",
              "    <tr>\n",
              "      <th>9</th>\n",
              "      <td>navigator.serviceWorker.getRegistr...</td>\n",
              "    </tr>\n",
              "  </tbody>\n",
              "</table>\n",
              "</div>"
            ],
            "text/plain": [
              "                                     <!DOCTYPE html>\n",
              "0                                   <html lang=\"en\">\n",
              "1                                             <head>\n",
              "2      <title>Kaggle: Your Home for Data Science<...\n",
              "3                           <meta charset=\"utf-8\" />\n",
              "4      <meta name=\"description\" content=\"Kaggle i...\n",
              "5      <meta name=\"turbolinks-cache-control\" cont...\n",
              "6      <meta name=\"theme-color\" content=\"#008ABC\" />\n",
              "7      <script nonce=\"YxRmX3wWPZDNqYIPX3bYig==\" t...\n",
              "8                if ('serviceWorker' in navigator) {\n",
              "9              navigator.serviceWorker.getRegistr..."
            ]
          },
          "metadata": {
            "tags": []
          },
          "execution_count": 0
        }
      ]
    }
  ]
}